import pandas as pd
from sqlalchemy import create_engine, text
import joblib
from sklearn.model_selection import train_test_split
from sklearn.ensemble import RandomForestRegressor
from sklearn.metrics import mean_absolute_error, r2_score
import sys
import os

# This helps the notebook find your 'app' directory for the config settings
sys.path.append(os.path.abspath(os.path.join('..')))
from app.core.config import settings

print("Libraries imported successfully!")

engine = create_engine(settings.DATABASE_URL)

query = 
SELECT
    e.id AS event_id,
    e.name,
    e.status,
    e.start_date,
    e.end_date,
    e.is_public,
    COUNT(r.id) AS final_attendee_count
FROM
    events AS e
LEFT JOIN
    registrations AS r ON e.id = r.event_id
GROUP BY
    e.id
ORDER BY
    e.start_date DESC;

with engine.connect as connection:
    df = pd.read_sql(text(query), connection)
print(f"Successfully loaded {len(df)} events from the database.")
df.head()

#1. Convert data columns to actual data object
df['start_date'] = pd.to_datetime(df['start_date'])
df['end_date'] = pd.to_datetime(df['end_date'])

#2 Create new features that the model can understand
df['event_duration_days'] = (df['end_date'] - df['start_date']).dt.days
df['start_month'] = df['start_date'].dt.month
df['start_day_of_week'] = df['start_date'].dt.dayofweek # Monday=0, Sunday=6

# 3. Convert boolean 'is_public' to integer (0 or 1)
df['is_public_int'] = df['is_public'].astype(int)


print("New features created:")
df[['event_id', 'event_duration_days', 'start_month', 'start_day_of_week', 'is_public_int', 'final_attendee_count']].head()

# Define the features (clues) our model will use
features = ['event_duration_days', 'start_month', 'start_day_of_week', 'is_public_int']
target = 'final_attendee_count'

X = df[features]
y = df[target]

# Split our data: 80% for training the model, 20% for testing it
X_train, X_test, y_train, y_test = train_test_split(X, y, test_size=0.2, random_state=42)

print(f"Data split into {len(X_train)} training samples and {len(X_test)} testing samples.")

# Initialize the model. We use random_state=42 for reproducibility.
model = RandomForestRegressor(n_estimators=100, random_state=42)

# Train the model on the training data
print("Training the model...")
model.fit(X_train, y_train)
print("Model training complete.")

# Make predictions on the test data (the data it has never seen)
predictions = model.predict(X_test)

# Evaluate the model's performance
mae = mean_absolute_error(y_test, predictions)
r2 = r2_score(y_test, predictions)

print("\n--- Model Evaluation ---")
print(f"Mean Absolute Error (MAE): {mae:.2f}")
print(f"R-squared (R²): {r2:.2f}")

# Define the path to save the model file inside your app/ml folder
model_path = os.path.join('..', 'app', 'ml', 'attendance_model_v1.joblib')

# Save the trained model to the file
joblib.dump(model, model_path)

print(f"\nModel saved successfully to: {model_path}")